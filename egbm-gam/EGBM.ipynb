{
 "cells": [
  {
   "cell_type": "code",
   "execution_count": 1,
   "metadata": {},
   "outputs": [],
   "source": [
    "import lightgbm as lgb\n",
    "import pandas as pd\n",
    "import numpy as np\n",
    "from sklearn.model_selection import train_test_split\n",
    "import matplotlib.pyplot as plt\n",
    "from egbm_gam import Explainer\n",
    "from sklearn import metrics"
   ]
  },
  {
   "cell_type": "code",
   "execution_count": 10,
   "metadata": {},
   "outputs": [
    {
     "name": "stderr",
     "output_type": "stream",
     "text": [
      "c:\\Users\\Asus\\AppData\\Local\\Programs\\Python\\Python38\\lib\\site-packages\\lightgbm\\sklearn.py:736: UserWarning: 'verbose' argument is deprecated and will be removed in a future release of LightGBM. Pass 'log_evaluation()' callback via 'callbacks' argument instead.\n",
      "  _log_warning(\"'verbose' argument is deprecated and will be removed in a future release of LightGBM. \"\n",
      "c:\\Users\\Asus\\AppData\\Local\\Programs\\Python\\Python38\\lib\\site-packages\\lightgbm\\sklearn.py:736: UserWarning: 'verbose' argument is deprecated and will be removed in a future release of LightGBM. Pass 'log_evaluation()' callback via 'callbacks' argument instead.\n",
      "  _log_warning(\"'verbose' argument is deprecated and will be removed in a future release of LightGBM. \"\n",
      "c:\\Users\\Asus\\AppData\\Local\\Programs\\Python\\Python38\\lib\\site-packages\\lightgbm\\sklearn.py:736: UserWarning: 'verbose' argument is deprecated and will be removed in a future release of LightGBM. Pass 'log_evaluation()' callback via 'callbacks' argument instead.\n",
      "  _log_warning(\"'verbose' argument is deprecated and will be removed in a future release of LightGBM. \"\n",
      "c:\\Users\\Asus\\AppData\\Local\\Programs\\Python\\Python38\\lib\\site-packages\\lightgbm\\sklearn.py:736: UserWarning: 'verbose' argument is deprecated and will be removed in a future release of LightGBM. Pass 'log_evaluation()' callback via 'callbacks' argument instead.\n",
      "  _log_warning(\"'verbose' argument is deprecated and will be removed in a future release of LightGBM. \"\n",
      "c:\\Users\\Asus\\AppData\\Local\\Programs\\Python\\Python38\\lib\\site-packages\\lightgbm\\sklearn.py:736: UserWarning: 'verbose' argument is deprecated and will be removed in a future release of LightGBM. Pass 'log_evaluation()' callback via 'callbacks' argument instead.\n",
      "  _log_warning(\"'verbose' argument is deprecated and will be removed in a future release of LightGBM. \"\n",
      "c:\\Users\\Asus\\AppData\\Local\\Programs\\Python\\Python38\\lib\\site-packages\\lightgbm\\sklearn.py:736: UserWarning: 'verbose' argument is deprecated and will be removed in a future release of LightGBM. Pass 'log_evaluation()' callback via 'callbacks' argument instead.\n",
      "  _log_warning(\"'verbose' argument is deprecated and will be removed in a future release of LightGBM. \"\n",
      "c:\\Users\\Asus\\AppData\\Local\\Programs\\Python\\Python38\\lib\\site-packages\\lightgbm\\sklearn.py:736: UserWarning: 'verbose' argument is deprecated and will be removed in a future release of LightGBM. Pass 'log_evaluation()' callback via 'callbacks' argument instead.\n",
      "  _log_warning(\"'verbose' argument is deprecated and will be removed in a future release of LightGBM. \"\n",
      "c:\\Users\\Asus\\AppData\\Local\\Programs\\Python\\Python38\\lib\\site-packages\\lightgbm\\sklearn.py:736: UserWarning: 'verbose' argument is deprecated and will be removed in a future release of LightGBM. Pass 'log_evaluation()' callback via 'callbacks' argument instead.\n",
      "  _log_warning(\"'verbose' argument is deprecated and will be removed in a future release of LightGBM. \"\n",
      "c:\\Users\\Asus\\AppData\\Local\\Programs\\Python\\Python38\\lib\\site-packages\\lightgbm\\sklearn.py:736: UserWarning: 'verbose' argument is deprecated and will be removed in a future release of LightGBM. Pass 'log_evaluation()' callback via 'callbacks' argument instead.\n",
      "  _log_warning(\"'verbose' argument is deprecated and will be removed in a future release of LightGBM. \"\n",
      "c:\\Users\\Asus\\AppData\\Local\\Programs\\Python\\Python38\\lib\\site-packages\\lightgbm\\sklearn.py:736: UserWarning: 'verbose' argument is deprecated and will be removed in a future release of LightGBM. Pass 'log_evaluation()' callback via 'callbacks' argument instead.\n",
      "  _log_warning(\"'verbose' argument is deprecated and will be removed in a future release of LightGBM. \"\n"
     ]
    }
   ],
   "source": [
    "k = 10\n",
    "max_depth = 1\n",
    "\n",
    "lgbm_model = lgb.LGBMRegressor(max_depth = max_depth)\n",
    "\n",
    "explainer = Explainer(\n",
    "    n_epochs=2000,\n",
    "    weights_lr=0.05,\n",
    "    gbm_lr=0.01,\n",
    "    init_type='zeros',\n",
    "    norm_target=True,\n",
    "    init_est_type='mean',\n",
    "    optimal_weights=100,\n",
    "    optimal_rate=0.01,\n",
    "    optimal_iter=500,\n",
    "    optimal_period=20,\n",
    "    pretraining_iter=1,\n",
    "    tree_max_depth = max_depth,\n",
    "    enable_history=True\n",
    ")\n",
    "\n",
    "df = pd.read_csv(\"boston_housing.csv\")\n",
    "shuffled = df.sample(frac=1)\n",
    "datasets = np.array_split(shuffled, k)\n",
    "lgbm_importances = np.zeros((k,13))\n",
    "egbm_importances = np.zeros((k,13))\n",
    "MSEs = {\"EGBM\": [], \"LGBM\": []}\n",
    "\n",
    "for i in range(k):\n",
    "    data = datasets.copy()\n",
    "    #Split datasets\n",
    "    test_set = data[i]\n",
    "    data.pop(i)\n",
    "    train_set = pd.concat(data)\n",
    "    x_train, y_train = train_set.drop(\"medv\", axis=1), train_set[\"medv\"]\n",
    "    x_test, y_test = test_set.drop(\"medv\", axis=1), test_set[\"medv\"]\n",
    "    #Fit LGBM model\n",
    "    lgbm_model.fit(x_train, y_train, verbose=-1)\n",
    "    #Predict using LGBM model\n",
    "    lgbm_pred = lgbm_model.predict(x_test)\n",
    "    #get LGBM feature importances\n",
    "    lgbm_importances[i] = lgbm_model.feature_importances_    \n",
    "\n",
    "    #Fit EGBM model\n",
    "    x_train, x_test, y_train, y_test = x_train.to_numpy(), x_test.to_numpy(), y_train.to_numpy(), y_test.to_numpy()\n",
    "    explainer.fit(x_train, y_train)\n",
    "    #Predict using EGBM model\n",
    "    egbm_pred = explainer.predict(x_test)\n",
    "    #get EGBM feature importances\n",
    "    egbm_importance = explainer.get_corrected_weights(x_train)\n",
    "    importance = [abs(item) for item in egbm_importance]\n",
    "    importance = [(int) (round(item/sum(importance),2)*100) for item in importance]\n",
    "    egbm_importances[i] = importance\n",
    "\n",
    "    #add MSE of two models\n",
    "    mse_egbm = (metrics.mean_squared_error(y_test, egbm_pred))\n",
    "    mse_lgbm = (metrics.mean_squared_error(y_test, lgbm_pred))\n",
    "    MSEs[\"EGBM\"].append(mse_egbm)\n",
    "    MSEs[\"LGBM\"].append(mse_lgbm)\n"
   ]
  },
  {
   "cell_type": "code",
   "execution_count": 11,
   "metadata": {},
   "outputs": [
    {
     "name": "stdout",
     "output_type": "stream",
     "text": [
      "LGBM:  15.890053080534514 EGBM:  14.638264218648459\n"
     ]
    },
    {
     "data": {
      "text/html": [
       "<div>\n",
       "<style scoped>\n",
       "    .dataframe tbody tr th:only-of-type {\n",
       "        vertical-align: middle;\n",
       "    }\n",
       "\n",
       "    .dataframe tbody tr th {\n",
       "        vertical-align: top;\n",
       "    }\n",
       "\n",
       "    .dataframe thead th {\n",
       "        text-align: right;\n",
       "    }\n",
       "</style>\n",
       "<table border=\"1\" class=\"dataframe\">\n",
       "  <thead>\n",
       "    <tr style=\"text-align: right;\">\n",
       "      <th></th>\n",
       "      <th>EGBM</th>\n",
       "      <th>LGBM</th>\n",
       "    </tr>\n",
       "  </thead>\n",
       "  <tbody>\n",
       "    <tr>\n",
       "      <th>0</th>\n",
       "      <td>10.041668</td>\n",
       "      <td>11.643801</td>\n",
       "    </tr>\n",
       "    <tr>\n",
       "      <th>1</th>\n",
       "      <td>8.177111</td>\n",
       "      <td>14.307110</td>\n",
       "    </tr>\n",
       "    <tr>\n",
       "      <th>2</th>\n",
       "      <td>9.442891</td>\n",
       "      <td>13.577287</td>\n",
       "    </tr>\n",
       "    <tr>\n",
       "      <th>3</th>\n",
       "      <td>48.087257</td>\n",
       "      <td>50.108839</td>\n",
       "    </tr>\n",
       "    <tr>\n",
       "      <th>4</th>\n",
       "      <td>9.899183</td>\n",
       "      <td>9.446710</td>\n",
       "    </tr>\n",
       "    <tr>\n",
       "      <th>5</th>\n",
       "      <td>9.011771</td>\n",
       "      <td>8.389104</td>\n",
       "    </tr>\n",
       "    <tr>\n",
       "      <th>6</th>\n",
       "      <td>13.132446</td>\n",
       "      <td>12.757560</td>\n",
       "    </tr>\n",
       "    <tr>\n",
       "      <th>7</th>\n",
       "      <td>14.153566</td>\n",
       "      <td>15.454581</td>\n",
       "    </tr>\n",
       "    <tr>\n",
       "      <th>8</th>\n",
       "      <td>17.632467</td>\n",
       "      <td>15.538174</td>\n",
       "    </tr>\n",
       "    <tr>\n",
       "      <th>9</th>\n",
       "      <td>6.804282</td>\n",
       "      <td>7.677363</td>\n",
       "    </tr>\n",
       "  </tbody>\n",
       "</table>\n",
       "</div>"
      ],
      "text/plain": [
       "        EGBM       LGBM\n",
       "0  10.041668  11.643801\n",
       "1   8.177111  14.307110\n",
       "2   9.442891  13.577287\n",
       "3  48.087257  50.108839\n",
       "4   9.899183   9.446710\n",
       "5   9.011771   8.389104\n",
       "6  13.132446  12.757560\n",
       "7  14.153566  15.454581\n",
       "8  17.632467  15.538174\n",
       "9   6.804282   7.677363"
      ]
     },
     "execution_count": 11,
     "metadata": {},
     "output_type": "execute_result"
    }
   ],
   "source": [
    "MSE_table = pd.DataFrame(MSEs)\n",
    "mean_mse_lgbm = MSE_table[\"LGBM\"].mean()\n",
    "mean_mse_egbm = MSE_table[\"EGBM\"].mean()\n",
    "print(\"LGBM: \", mean_mse_lgbm, \"EGBM: \", mean_mse_egbm)\n",
    "MSE_table\n",
    "\n"
   ]
  },
  {
   "cell_type": "code",
   "execution_count": 9,
   "metadata": {},
   "outputs": [
    {
     "name": "stdout",
     "output_type": "stream",
     "text": [
      "[ 8.6  0.   0.   4.5  9.4 18.2  0.  13.2  0.   5.6 11.9  4.  24.6]\n",
      "[ 5.4  1.7  0.5  3.5  8.9 21.7  0.2 11.2  4.6  4.6  9.3  3.8 25.1]\n"
     ]
    },
    {
     "data": {
      "image/png": "[encoded data removed]",
      "text/plain": [
       "<Figure size 432x288 with 1 Axes>"
      ]
     },
     "metadata": {
      "needs_background": "light"
     },
     "output_type": "display_data"
    },
    {
     "data": {
      "image/png": "[encoded data removed]",
      "text/plain": [
       "<Figure size 432x288 with 1 Axes>"
      ]
     },
     "metadata": {
      "needs_background": "light"
     },
     "output_type": "display_data"
    }
   ],
   "source": [
    "mean_lgbm_importance = lgbm_importances.mean(axis=0)\n",
    "mean_egbm_importance = egbm_importances.mean(axis=0)\n",
    "print(mean_lgbm_importance)\n",
    "print(mean_egbm_importance)\n",
    "\n",
    "X, Y = df.drop(\"medv\", axis=1), df[\"medv\"]\n",
    "\n",
    "fig = plt.barh(X.columns, mean_lgbm_importance, 0.4)\n",
    "plt.bar_label(fig, mean_lgbm_importance)\n",
    "plt.show()\n",
    "\n",
    "fig_2 = plt.barh(X.columns, mean_egbm_importance, 0.4)\n",
    "plt.bar_label(fig_2, mean_egbm_importance)\n",
    "plt.show()"
   ]
  },
  {
   "cell_type": "code",
   "execution_count": 5,
   "metadata": {},
   "outputs": [
    {
     "data": {
      "text/plain": [
       "count    506.000000\n",
       "mean       9.549407\n",
       "std        8.707259\n",
       "min        1.000000\n",
       "25%        4.000000\n",
       "50%        5.000000\n",
       "75%       24.000000\n",
       "max       24.000000\n",
       "Name: rad, dtype: float64"
      ]
     },
     "execution_count": 5,
     "metadata": {},
     "output_type": "execute_result"
    }
   ],
   "source": [
    "from pydoc import describe\n",
    "\n",
    "\n",
    "df[\"rad\"].describe()"
   ]
  },
  {
   "cell_type": "code",
   "execution_count": 6,
   "metadata": {},
   "outputs": [
    {
     "name": "stderr",
     "output_type": "stream",
     "text": [
      "c:\\Users\\Asus\\AppData\\Local\\Programs\\Python\\Python38\\lib\\site-packages\\lightgbm\\sklearn.py:736: UserWarning: 'verbose' argument is deprecated and will be removed in a future release of LightGBM. Pass 'log_evaluation()' callback via 'callbacks' argument instead.\n",
      "  _log_warning(\"'verbose' argument is deprecated and will be removed in a future release of LightGBM. \"\n"
     ]
    }
   ],
   "source": [
    "x_train, x_test, y_train, y_test = train_test_split(X, Y, test_size=0.2, random_state = 23)\n",
    "\n",
    "new_depth = 10\n",
    "\n",
    "lgbm_model = lgb.LGBMRegressor(max_depth = new_depth)\n",
    "\n",
    "explainer = Explainer(\n",
    "    n_epochs=2000,\n",
    "    weights_lr=0.05,\n",
    "    gbm_lr=0.01,\n",
    "    init_type='zeros',\n",
    "    norm_target=True,\n",
    "    init_est_type='mean',\n",
    "    optimal_weights=100,\n",
    "    optimal_rate=0.01,\n",
    "    optimal_iter=500,\n",
    "    optimal_period=20,\n",
    "    pretraining_iter=1,\n",
    "    tree_max_depth = new_depth,\n",
    "    enable_history=True\n",
    ")\n",
    "\n",
    "#Fit LGBM model\n",
    "lgbm_model.fit(x_train, y_train, verbose=-1)\n",
    "#Predict using LGBM model\n",
    "lgbm_pred = lgbm_model.predict(x_test)\n",
    "#get LGBM feature importances\n",
    "importance_1 = lgbm_model.feature_importances_ \n",
    "importance_1 = [(int) (round(item/sum(importance_1),2)*100) for item in importance_1]   \n",
    "\n",
    "#Fit EGBM model\n",
    "x_train, x_test, y_train, y_test = x_train.to_numpy(), x_test.to_numpy(), y_train.to_numpy(), y_test.to_numpy()\n",
    "explainer.fit(x_train, y_train)\n",
    "#Predict using EGBM model\n",
    "egbm_pred = explainer.predict(x_test)\n",
    "#get EGBM feature importances\n",
    "egbm_importance = explainer.get_corrected_weights(x_train)\n",
    "importance_2 = [abs(item) for item in egbm_importance]\n",
    "importance_2 = [(int) (round(item/sum(importance_2),2)*100) for item in importance_2]\n",
    "\n"
   ]
  },
  {
   "cell_type": "code",
   "execution_count": 7,
   "metadata": {},
   "outputs": [
    {
     "name": "stdout",
     "output_type": "stream",
     "text": [
      "LGBM:  13.021917673011467 EGBM:  24.714234243135387\n"
     ]
    }
   ],
   "source": [
    "lgbm_mse = metrics.mean_squared_error(y_test, lgbm_pred)\n",
    "egbm_mse = metrics.mean_squared_error(y_test, egbm_pred)\n",
    "print(\"LGBM: \", lgbm_mse, \"EGBM: \", egbm_mse)"
   ]
  },
  {
   "cell_type": "code",
   "execution_count": 8,
   "metadata": {},
   "outputs": [
    {
     "data": {
      "image/png": "[encoded data removed]",
      "text/plain": [
       "<Figure size 432x288 with 1 Axes>"
      ]
     },
     "metadata": {
      "needs_background": "light"
     },
     "output_type": "display_data"
    },
    {
     "data": {
      "image/png": "[encoded data removed]",
      "text/plain": [
       "<Figure size 432x288 with 1 Axes>"
      ]
     },
     "metadata": {
      "needs_background": "light"
     },
     "output_type": "display_data"
    }
   ],
   "source": [
    "fig = plt.barh(X.columns, importance_1, 0.4)\n",
    "plt.bar_label(fig, importance_1)\n",
    "plt.show()\n",
    "\n",
    "fig_2 = plt.barh(X.columns, importance_2, 0.4)\n",
    "plt.bar_label(fig_2, importance_2)\n",
    "plt.show()"
   ]
  }
 ],
 "metadata": {
  "kernelspec": {
   "display_name": "Python 3.8.5 64-bit",
   "language": "python",
   "name": "python3"
  },
  "language_info": {
   "codemirror_mode": {
    "name": "ipython",
    "version": 3
   },
   "file_extension": ".py",
   "mimetype": "text/x-python",
   "name": "python",
   "nbconvert_exporter": "python",
   "pygments_lexer": "ipython3",
   "version": "3.8.5"
  },
  "orig_nbformat": 4,
  "vscode": {
   "interpreter": {
    "hash": "25d775a05cd5ef828ac55111e2d25fe7a8cdee116904ae28746ef0f2500c8ec5"
   }
  }
 },
 "nbformat": 4,
 "nbformat_minor": 2
}
